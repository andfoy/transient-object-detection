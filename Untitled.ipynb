{
 "cells": [
  {
   "cell_type": "code",
   "execution_count": 7,
   "metadata": {
    "scrolled": true
   },
   "outputs": [
    {
     "data": {
      "text/plain": [
       "Other                                              269\n",
       "Quasar                                              20\n",
       "Emission-line galaxy                                 7\n",
       "Radio Galaxy                                         7\n",
       "Star                                                 6\n",
       "SuperNova                                            5\n",
       "X-ray source                                         3\n",
       "Galaxy                                               2\n",
       "UV-emission source                                   1\n",
       "White Dwarf                                          1\n",
       "Cluster of Galaxies                                  1\n",
       "Eclipsing binary of W UMa type (contact binary)      1\n",
       "Name: type, dtype: int64"
      ]
     },
     "execution_count": 7,
     "metadata": {},
     "output_type": "execute_result"
    }
   ],
   "source": [
    "import pandas as pd\n",
    "import matplotlib.pyplot as plt\n",
    "\n",
    "labels = pd.read_csv('labels.csv')\n",
    "labels.type.value_counts()\n",
    "#labels.type.value_counts().sort_index().plot(kind='bar')"
   ]
  }
 ],
 "metadata": {
  "kernelspec": {
   "display_name": "Python 3",
   "language": "python",
   "name": "python3"
  },
  "language_info": {
   "codemirror_mode": {
    "name": "ipython",
    "version": 3
   },
   "file_extension": ".py",
   "mimetype": "text/x-python",
   "name": "python",
   "nbconvert_exporter": "python",
   "pygments_lexer": "ipython3",
   "version": "3.6.0"
  }
 },
 "nbformat": 4,
 "nbformat_minor": 2
}
